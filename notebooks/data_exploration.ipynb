{
 "cells": [
  {
   "cell_type": "markdown",
   "source": [
    "# Exploration"
   ],
   "metadata": {
    "collapsed": false
   }
  },
  {
   "cell_type": "markdown",
   "source": [
    "## Setup"
   ],
   "metadata": {
    "collapsed": false
   }
  },
  {
   "cell_type": "code",
   "execution_count": 11,
   "outputs": [],
   "source": [
    "import pandas as pd\n",
    "import json\n",
    "from matplotlib import pyplot as plt"
   ],
   "metadata": {
    "collapsed": false
   }
  },
  {
   "cell_type": "markdown",
   "source": [
    "### Import data"
   ],
   "metadata": {
    "collapsed": false
   }
  },
  {
   "cell_type": "code",
   "execution_count": 55,
   "outputs": [
    {
     "data": {
      "text/plain": "                source                                              title  \\\n0       Digital Trends  The Hunger Games: The Ballad of Songbirds & Sn...   \n1            Pitchfork  Beyoncé’s Renaissance Movie Tops U.S. Box Offi...   \n2       Digital Trends     What’s new on VOD and Digital in December 2023   \n3        The A.V. Club  Napoleon conquers Wish but gets exiled by the ...   \n4          Gizmodo.com  The Marvels Drama, Fallout TV Show Reveals, an...   \n..                 ...                                                ...   \n489          TechRadar         When is The Marvels coming to Disney Plus?   \n490            Vulture  Three Awards Bodies Walk Into a Movies Fantasy...   \n491  Los Angeles Times  2024 Oscars shaping up as a 'Barbenheimer' sequel   \n492            Decider  Is ‘The Hunger Games: The Ballad Of Songbirds ...   \n493              /FILM  The Book You Should Read If You Love – Or Hate...   \n\n                                           description  \\\n0    Here's everything that happens at the end of T...   \n1    In its first weekend, the concert film bested ...   \n2    What's new on VOD and Digital in December 2023...   \n3    November 2023: Napoleon is master of the domes...   \n4    It’s been a wild week in the world of sci-fi, ...   \n..                                                 ...   \n489  Want to know when you can watch The Marvels on...   \n490  New York Film Critics Circle, National Board o...   \n491  \"Barbie\" and \"Oppenheimer\" ruled the summer. N...   \n492  It's almost time for the highly anticipated Hu...   \n493  Ridley Scott&amp;#39;s Napoleon isn&amp;#39;t ...   \n\n                                                   url           publishedAt  \\\n0    https://www.digitaltrends.com/movies/the-hunge...  2023-11-16T21:25:05Z   \n1    https://pitchfork.com/news/beyonces-renaissanc...  2023-12-03T23:18:18Z   \n2    https://www.digitaltrends.com/movies/whats-new...  2023-12-04T22:00:07Z   \n3    https://www.avclub.com/ballad-songbirds-snakes...  2023-11-26T22:02:00Z   \n4    https://gizmodo.com/top-entertainment-news-fal...  2023-12-02T15:00:00Z   \n..                                                 ...                   ...   \n489  https://www.techradar.com/streaming/disney-plu...  2023-11-10T08:01:25Z   \n490  http://www.vulture.com/2023/12/nbr-nyfcc-film-...  2023-12-07T23:00:43Z   \n491  https://www.latimes.com/entertainment-arts/awa...  2023-11-13T13:00:24Z   \n492  https://decider.com/2023/11/16/is-the-hunger-g...  2023-11-16T16:30:00Z   \n493  https://www.slashfilm.com/1453102/book-you-sho...  2023-11-22T16:27:00Z   \n\n                                               content  \n0    Murray Close / Lionsgate\\r\\nWarning: This arti...  \n1    Beyoncés Renaissance movie is the No. 1 movie ...  \n2    Apple TV+\\r\\nDecember is a very quiet month fo...  \n3    November 2023: Napoleonis master of the domest...  \n4    Its been a wild week in the world of sci-fi, f...  \n..                                                 ...  \n489  The Marvels has finally arrived in theaters – ...  \n490  This is the latest edition of the Movies Fanta...  \n491  A long time ago relatively, in this short-atte...  \n492  The odds are surely in our favor as the highly...  \n493  Here's the thing: I don't care that Scott thro...  \n\n[494 rows x 6 columns]",
      "text/html": "<div>\n<style scoped>\n    .dataframe tbody tr th:only-of-type {\n        vertical-align: middle;\n    }\n\n    .dataframe tbody tr th {\n        vertical-align: top;\n    }\n\n    .dataframe thead th {\n        text-align: right;\n    }\n</style>\n<table border=\"1\" class=\"dataframe\">\n  <thead>\n    <tr style=\"text-align: right;\">\n      <th></th>\n      <th>source</th>\n      <th>title</th>\n      <th>description</th>\n      <th>url</th>\n      <th>publishedAt</th>\n      <th>content</th>\n    </tr>\n  </thead>\n  <tbody>\n    <tr>\n      <th>0</th>\n      <td>Digital Trends</td>\n      <td>The Hunger Games: The Ballad of Songbirds &amp; Sn...</td>\n      <td>Here's everything that happens at the end of T...</td>\n      <td>https://www.digitaltrends.com/movies/the-hunge...</td>\n      <td>2023-11-16T21:25:05Z</td>\n      <td>Murray Close / Lionsgate\\r\\nWarning: This arti...</td>\n    </tr>\n    <tr>\n      <th>1</th>\n      <td>Pitchfork</td>\n      <td>Beyoncé’s Renaissance Movie Tops U.S. Box Offi...</td>\n      <td>In its first weekend, the concert film bested ...</td>\n      <td>https://pitchfork.com/news/beyonces-renaissanc...</td>\n      <td>2023-12-03T23:18:18Z</td>\n      <td>Beyoncés Renaissance movie is the No. 1 movie ...</td>\n    </tr>\n    <tr>\n      <th>2</th>\n      <td>Digital Trends</td>\n      <td>What’s new on VOD and Digital in December 2023</td>\n      <td>What's new on VOD and Digital in December 2023...</td>\n      <td>https://www.digitaltrends.com/movies/whats-new...</td>\n      <td>2023-12-04T22:00:07Z</td>\n      <td>Apple TV+\\r\\nDecember is a very quiet month fo...</td>\n    </tr>\n    <tr>\n      <th>3</th>\n      <td>The A.V. Club</td>\n      <td>Napoleon conquers Wish but gets exiled by the ...</td>\n      <td>November 2023: Napoleon is master of the domes...</td>\n      <td>https://www.avclub.com/ballad-songbirds-snakes...</td>\n      <td>2023-11-26T22:02:00Z</td>\n      <td>November 2023: Napoleonis master of the domest...</td>\n    </tr>\n    <tr>\n      <th>4</th>\n      <td>Gizmodo.com</td>\n      <td>The Marvels Drama, Fallout TV Show Reveals, an...</td>\n      <td>It’s been a wild week in the world of sci-fi, ...</td>\n      <td>https://gizmodo.com/top-entertainment-news-fal...</td>\n      <td>2023-12-02T15:00:00Z</td>\n      <td>Its been a wild week in the world of sci-fi, f...</td>\n    </tr>\n    <tr>\n      <th>...</th>\n      <td>...</td>\n      <td>...</td>\n      <td>...</td>\n      <td>...</td>\n      <td>...</td>\n      <td>...</td>\n    </tr>\n    <tr>\n      <th>489</th>\n      <td>TechRadar</td>\n      <td>When is The Marvels coming to Disney Plus?</td>\n      <td>Want to know when you can watch The Marvels on...</td>\n      <td>https://www.techradar.com/streaming/disney-plu...</td>\n      <td>2023-11-10T08:01:25Z</td>\n      <td>The Marvels has finally arrived in theaters – ...</td>\n    </tr>\n    <tr>\n      <th>490</th>\n      <td>Vulture</td>\n      <td>Three Awards Bodies Walk Into a Movies Fantasy...</td>\n      <td>New York Film Critics Circle, National Board o...</td>\n      <td>http://www.vulture.com/2023/12/nbr-nyfcc-film-...</td>\n      <td>2023-12-07T23:00:43Z</td>\n      <td>This is the latest edition of the Movies Fanta...</td>\n    </tr>\n    <tr>\n      <th>491</th>\n      <td>Los Angeles Times</td>\n      <td>2024 Oscars shaping up as a 'Barbenheimer' sequel</td>\n      <td>\"Barbie\" and \"Oppenheimer\" ruled the summer. N...</td>\n      <td>https://www.latimes.com/entertainment-arts/awa...</td>\n      <td>2023-11-13T13:00:24Z</td>\n      <td>A long time ago relatively, in this short-atte...</td>\n    </tr>\n    <tr>\n      <th>492</th>\n      <td>Decider</td>\n      <td>Is ‘The Hunger Games: The Ballad Of Songbirds ...</td>\n      <td>It's almost time for the highly anticipated Hu...</td>\n      <td>https://decider.com/2023/11/16/is-the-hunger-g...</td>\n      <td>2023-11-16T16:30:00Z</td>\n      <td>The odds are surely in our favor as the highly...</td>\n    </tr>\n    <tr>\n      <th>493</th>\n      <td>/FILM</td>\n      <td>The Book You Should Read If You Love – Or Hate...</td>\n      <td>Ridley Scott&amp;amp;#39;s Napoleon isn&amp;amp;#39;t ...</td>\n      <td>https://www.slashfilm.com/1453102/book-you-sho...</td>\n      <td>2023-11-22T16:27:00Z</td>\n      <td>Here's the thing: I don't care that Scott thro...</td>\n    </tr>\n  </tbody>\n</table>\n<p>494 rows × 6 columns</p>\n</div>"
     },
     "execution_count": 55,
     "metadata": {},
     "output_type": "execute_result"
    }
   ],
   "source": [
    "df = pd.read_json('../data/processed/new_movies.json', orient='records')\n",
    "df"
   ],
   "metadata": {
    "collapsed": false
   }
  },
  {
   "cell_type": "markdown",
   "source": [
    "# Analysis"
   ],
   "metadata": {
    "collapsed": false
   }
  },
  {
   "cell_type": "code",
   "execution_count": 57,
   "outputs": [
    {
     "name": "stdout",
     "output_type": "stream",
     "text": [
      "95\n"
     ]
    },
    {
     "data": {
      "text/plain": "source\n/FILM              64\nDeadline           43\nScreen Rant        40\nIndieWire          35\nThe A.V. Club      25\n                   ..\nInstapundit.com     1\nDazed               1\nBreitbart News      1\nVox                 1\nDecider             1\nName: count, Length: 95, dtype: int64"
     },
     "execution_count": 57,
     "metadata": {},
     "output_type": "execute_result"
    }
   ],
   "source": [
    "df_sources = df.copy()\n",
    "source_counts = df_sources['source'].value_counts()\n",
    "print(len(source_counts))\n",
    "source_counts"
   ],
   "metadata": {
    "collapsed": false
   }
  },
  {
   "cell_type": "code",
   "execution_count": 63,
   "outputs": [
    {
     "data": {
      "text/plain": "<Axes: ylabel='Frequency'>"
     },
     "execution_count": 63,
     "metadata": {},
     "output_type": "execute_result"
    },
    {
     "data": {
      "text/plain": "<Figure size 640x480 with 1 Axes>",
      "image/png": "[encoded data removed]"
     },
     "metadata": {},
     "output_type": "display_data"
    }
   ],
   "source": [
    "source_counts.plot(kind='hist', bins=100)"
   ],
   "metadata": {
    "collapsed": false
   }
  },
  {
   "cell_type": "code",
   "execution_count": 65,
   "outputs": [
    {
     "name": "stdout",
     "output_type": "stream",
     "text": [
      "source\n",
      "/FILM              64\n",
      "Deadline           43\n",
      "Screen Rant        40\n",
      "IndieWire          35\n",
      "The A.V. Club      25\n",
      "ComingSoon.net     21\n",
      "Just Jared         18\n",
      "Forbes             16\n",
      "Livejournal.com    15\n",
      "Vulture            11\n",
      "Name: count, dtype: int64\n"
     ]
    }
   ],
   "source": [
    "print(source_counts[:10])"
   ],
   "metadata": {
    "collapsed": false
   }
  },
  {
   "cell_type": "code",
   "execution_count": 65,
   "outputs": [],
   "source": [],
   "metadata": {
    "collapsed": false
   }
  },
  {
   "cell_type": "code",
   "execution_count": 71,
   "outputs": [
    {
     "data": {
      "text/plain": "count    494.000000\nmean      76.562753\nstd       24.181932\nmin        8.000000\n25%       63.000000\n50%       77.000000\n75%       91.000000\nmax      165.000000\nName: title, dtype: float64"
     },
     "execution_count": 71,
     "metadata": {},
     "output_type": "execute_result"
    }
   ],
   "source": [
    "string_lengths = df['title'].str.len()\n",
    "string_lengths.describe()"
   ],
   "metadata": {
    "collapsed": false
   }
  },
  {
   "cell_type": "code",
   "execution_count": 72,
   "outputs": [
    {
     "data": {
      "text/plain": "count    492.000000\nmean     186.969512\nstd       64.918350\nmin        9.000000\n25%      138.750000\n50%      167.500000\n75%      260.000000\nmax      260.000000\nName: description, dtype: float64"
     },
     "execution_count": 72,
     "metadata": {},
     "output_type": "execute_result"
    }
   ],
   "source": [
    "description_lengths = df['description'].str.len()\n",
    "description_lengths .describe()"
   ],
   "metadata": {
    "collapsed": false
   }
  },
  {
   "cell_type": "code",
   "execution_count": null,
   "outputs": [],
   "source": [],
   "metadata": {
    "collapsed": false
   }
  }
 ],
 "metadata": {
  "kernelspec": {
   "display_name": "Python 3",
   "language": "python",
   "name": "python3"
  },
  "language_info": {
   "codemirror_mode": {
    "name": "ipython",
    "version": 2
   },
   "file_extension": ".py",
   "mimetype": "text/x-python",
   "name": "python",
   "nbconvert_exporter": "python",
   "pygments_lexer": "ipython2",
   "version": "2.7.6"
  }
 },
 "nbformat": 4,
 "nbformat_minor": 0
}
