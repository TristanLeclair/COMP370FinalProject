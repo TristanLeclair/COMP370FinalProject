{
 "cells": [
  {
   "cell_type": "code",
   "execution_count": 43,
   "metadata": {
    "collapsed": true
   },
   "outputs": [],
   "source": [
    "import pandas as pd"
   ]
  },
  {
   "cell_type": "code",
   "execution_count": 44,
   "outputs": [],
   "source": [
    "second_round_df = pd.read_csv(\n",
    "    '../data/coded/Open coding 370 - 2nd round of coding.tsv', sep='\\t')\n",
    "final_round_df = pd.read_csv('../data/coded/Open coding 370 - Final coding.tsv',\n",
    "                             sep='\\t')"
   ],
   "metadata": {
    "collapsed": false
   }
  },
  {
   "cell_type": "code",
   "execution_count": 45,
   "outputs": [
    {
     "data": {
      "text/plain": "         source                                              title  \\\n0    Just Jared  Taylor Swift Will Seemingly Attend Beyonce's M...   \n1         /FILM  How Donnie Darko And Martin Scorsese Influence...   \n2         /FILM  The Marvels Is On Track For One Of The MCU's L...   \n3    Just Jared  Leonardo DiCaprio Reacts to Rapping Video, Rev...   \n4         /FILM  The Marvels Star Iman Vellani Talks Working Wi...   \n..          ...                                                ...   \n195    Deadline  ‘Godzilla Minus One’ Review: Toho’s Franchise ...   \n196       /FILM  One Of Five Nights At Freddy's Animatronics Ca...   \n197      Forbes  ‘The Marvels’ Makes Box Office History, ‘The H...   \n198  Biztoc.com  Martin Scorsese Hosts Robbie Robertson Tribute...   \n199    Deadline  Anna Kendrick And ‘Trolls Band Together’ Filmm...   \n\n                                           description  \\\n0    Taylor Swift missed out on an exciting opportu...   \n1    Believe it or not, the star and director of Fi...   \n2    Bad news for The Marvels: the latest from the ...   \n3    Leonardo DiCaprio is speaking out about the vi...   \n4    We spoke with The Marvels star Iman Vellani ab...   \n..                                                 ...   \n195  After countless variations and sequels, plus m...   \n196  Talk about scary: on the set of the Five Night...   \n197  What cost \"The Marvels\" the box office crown f...   \n198  In honor of the late Robbie Robertson, whose “...   \n199  “I think I didn’t realize how lucky I got with...   \n\n                                                   url           publishedAt  \\\n0    https://www.justjared.com/2023/11/29/taylor-sw...  2023-11-30T03:07:09Z   \n1    https://www.slashfilm.com/1448819/donnie-darko...  2023-11-26T12:45:30Z   \n2    https://www.slashfilm.com/1443945/the-marvels-...  2023-11-10T21:00:00Z   \n3    https://www.justjared.com/2023/11/16/leonardo-...  2023-11-16T23:43:08Z   \n4    https://www.slashfilm.com/1446432/the-marvels-...  2023-11-14T18:00:31Z   \n..                                                 ...                   ...   \n195  https://deadline.com/2023/12/godzilla-minus-on...  2023-12-01T16:41:21Z   \n196  https://www.slashfilm.com/1440863/five-nights-...  2023-11-25T14:45:39Z   \n197  https://www.forbes.com/sites/markhughes/2023/1...  2023-11-16T13:00:00Z   \n198              https://biztoc.com/x/a867ac28c74648dc  2023-11-16T22:47:20Z   \n199  https://deadline.com/2023/11/anna-kendrick-tro...  2023-11-18T22:51:19Z   \n\n                                               content  final movie  \\\n0    Taylor Swift missed out on an exciting opportu...  Renaissance   \n1    Normally, to reach the level of cult status, a...         FNAF   \n2    Even in the most optimistic scenario, an over/...      Marvels   \n3    Leonardo DiCaprio is speaking out about the vi...        KOTFM   \n4    I have to say, I'm so glad that the actors' st...      Marvels   \n..                                                 ...          ...   \n195  After countless variations and sequels, plus m...     Godzilla   \n196  All the lovable characters consisting of Fredd...         FNAF   \n197  While Marvel Studios expected The Marvels to b...  Marvels, HG   \n198  In honor of the late Robbie Robertson, whose K...        KOTFM   \n199  “I think I didn’t realize how lucky I got with...       Trolls   \n\n    final topic                                           Notes  coder 1  \\\n0         Promo                                             NaN      NaN   \n1          Prod                                             NaN      NaN   \n2           Box                                             NaN      NaN   \n3         Promo                                             NaN      NaN   \n4         Promo                                             NaN      NaN   \n..          ...                                             ...      ...   \n195        Plot                                             NaN      NaN   \n196          NR                                             NaN      NaN   \n197         Box  MAYBE production bc mention of music of movie?      NaN   \n198          NR                           production/promotion?      NaN   \n199        Prod                                             NaN      NaN   \n\n     coder 2  movie 1  movie 2  topic 1  topic 2  \n0        NaN      NaN      NaN      NaN      NaN  \n1        NaN      NaN      NaN      NaN      NaN  \n2        NaN      NaN      NaN      NaN      NaN  \n3        NaN      NaN      NaN      NaN      NaN  \n4        NaN      NaN      NaN      NaN      NaN  \n..       ...      ...      ...      ...      ...  \n195      NaN      NaN      NaN      NaN      NaN  \n196      NaN      NaN      NaN      NaN      NaN  \n197      NaN      NaN      NaN      NaN      NaN  \n198      NaN      NaN      NaN      NaN      NaN  \n199      NaN      NaN      NaN      NaN      NaN  \n\n[200 rows x 15 columns]",
      "text/html": "<div>\n<style scoped>\n    .dataframe tbody tr th:only-of-type {\n        vertical-align: middle;\n    }\n\n    .dataframe tbody tr th {\n        vertical-align: top;\n    }\n\n    .dataframe thead th {\n        text-align: right;\n    }\n</style>\n<table border=\"1\" class=\"dataframe\">\n  <thead>\n    <tr style=\"text-align: right;\">\n      <th></th>\n      <th>source</th>\n      <th>title</th>\n      <th>description</th>\n      <th>url</th>\n      <th>publishedAt</th>\n      <th>content</th>\n      <th>final movie</th>\n      <th>final topic</th>\n      <th>Notes</th>\n      <th>coder 1</th>\n      <th>coder 2</th>\n      <th>movie 1</th>\n      <th>movie 2</th>\n      <th>topic 1</th>\n      <th>topic 2</th>\n    </tr>\n  </thead>\n  <tbody>\n    <tr>\n      <th>0</th>\n      <td>Just Jared</td>\n      <td>Taylor Swift Will Seemingly Attend Beyonce's M...</td>\n      <td>Taylor Swift missed out on an exciting opportu...</td>\n      <td>https://www.justjared.com/2023/11/29/taylor-sw...</td>\n      <td>2023-11-30T03:07:09Z</td>\n      <td>Taylor Swift missed out on an exciting opportu...</td>\n      <td>Renaissance</td>\n      <td>Promo</td>\n      <td>NaN</td>\n      <td>NaN</td>\n      <td>NaN</td>\n      <td>NaN</td>\n      <td>NaN</td>\n      <td>NaN</td>\n      <td>NaN</td>\n    </tr>\n    <tr>\n      <th>1</th>\n      <td>/FILM</td>\n      <td>How Donnie Darko And Martin Scorsese Influence...</td>\n      <td>Believe it or not, the star and director of Fi...</td>\n      <td>https://www.slashfilm.com/1448819/donnie-darko...</td>\n      <td>2023-11-26T12:45:30Z</td>\n      <td>Normally, to reach the level of cult status, a...</td>\n      <td>FNAF</td>\n      <td>Prod</td>\n      <td>NaN</td>\n      <td>NaN</td>\n      <td>NaN</td>\n      <td>NaN</td>\n      <td>NaN</td>\n      <td>NaN</td>\n      <td>NaN</td>\n    </tr>\n    <tr>\n      <th>2</th>\n      <td>/FILM</td>\n      <td>The Marvels Is On Track For One Of The MCU's L...</td>\n      <td>Bad news for The Marvels: the latest from the ...</td>\n      <td>https://www.slashfilm.com/1443945/the-marvels-...</td>\n      <td>2023-11-10T21:00:00Z</td>\n      <td>Even in the most optimistic scenario, an over/...</td>\n      <td>Marvels</td>\n      <td>Box</td>\n      <td>NaN</td>\n      <td>NaN</td>\n      <td>NaN</td>\n      <td>NaN</td>\n      <td>NaN</td>\n      <td>NaN</td>\n      <td>NaN</td>\n    </tr>\n    <tr>\n      <th>3</th>\n      <td>Just Jared</td>\n      <td>Leonardo DiCaprio Reacts to Rapping Video, Rev...</td>\n      <td>Leonardo DiCaprio is speaking out about the vi...</td>\n      <td>https://www.justjared.com/2023/11/16/leonardo-...</td>\n      <td>2023-11-16T23:43:08Z</td>\n      <td>Leonardo DiCaprio is speaking out about the vi...</td>\n      <td>KOTFM</td>\n      <td>Promo</td>\n      <td>NaN</td>\n      <td>NaN</td>\n      <td>NaN</td>\n      <td>NaN</td>\n      <td>NaN</td>\n      <td>NaN</td>\n      <td>NaN</td>\n    </tr>\n    <tr>\n      <th>4</th>\n      <td>/FILM</td>\n      <td>The Marvels Star Iman Vellani Talks Working Wi...</td>\n      <td>We spoke with The Marvels star Iman Vellani ab...</td>\n      <td>https://www.slashfilm.com/1446432/the-marvels-...</td>\n      <td>2023-11-14T18:00:31Z</td>\n      <td>I have to say, I'm so glad that the actors' st...</td>\n      <td>Marvels</td>\n      <td>Promo</td>\n      <td>NaN</td>\n      <td>NaN</td>\n      <td>NaN</td>\n      <td>NaN</td>\n      <td>NaN</td>\n      <td>NaN</td>\n      <td>NaN</td>\n    </tr>\n    <tr>\n      <th>...</th>\n      <td>...</td>\n      <td>...</td>\n      <td>...</td>\n      <td>...</td>\n      <td>...</td>\n      <td>...</td>\n      <td>...</td>\n      <td>...</td>\n      <td>...</td>\n      <td>...</td>\n      <td>...</td>\n      <td>...</td>\n      <td>...</td>\n      <td>...</td>\n      <td>...</td>\n    </tr>\n    <tr>\n      <th>195</th>\n      <td>Deadline</td>\n      <td>‘Godzilla Minus One’ Review: Toho’s Franchise ...</td>\n      <td>After countless variations and sequels, plus m...</td>\n      <td>https://deadline.com/2023/12/godzilla-minus-on...</td>\n      <td>2023-12-01T16:41:21Z</td>\n      <td>After countless variations and sequels, plus m...</td>\n      <td>Godzilla</td>\n      <td>Plot</td>\n      <td>NaN</td>\n      <td>NaN</td>\n      <td>NaN</td>\n      <td>NaN</td>\n      <td>NaN</td>\n      <td>NaN</td>\n      <td>NaN</td>\n    </tr>\n    <tr>\n      <th>196</th>\n      <td>/FILM</td>\n      <td>One Of Five Nights At Freddy's Animatronics Ca...</td>\n      <td>Talk about scary: on the set of the Five Night...</td>\n      <td>https://www.slashfilm.com/1440863/five-nights-...</td>\n      <td>2023-11-25T14:45:39Z</td>\n      <td>All the lovable characters consisting of Fredd...</td>\n      <td>FNAF</td>\n      <td>NR</td>\n      <td>NaN</td>\n      <td>NaN</td>\n      <td>NaN</td>\n      <td>NaN</td>\n      <td>NaN</td>\n      <td>NaN</td>\n      <td>NaN</td>\n    </tr>\n    <tr>\n      <th>197</th>\n      <td>Forbes</td>\n      <td>‘The Marvels’ Makes Box Office History, ‘The H...</td>\n      <td>What cost \"The Marvels\" the box office crown f...</td>\n      <td>https://www.forbes.com/sites/markhughes/2023/1...</td>\n      <td>2023-11-16T13:00:00Z</td>\n      <td>While Marvel Studios expected The Marvels to b...</td>\n      <td>Marvels, HG</td>\n      <td>Box</td>\n      <td>MAYBE production bc mention of music of movie?</td>\n      <td>NaN</td>\n      <td>NaN</td>\n      <td>NaN</td>\n      <td>NaN</td>\n      <td>NaN</td>\n      <td>NaN</td>\n    </tr>\n    <tr>\n      <th>198</th>\n      <td>Biztoc.com</td>\n      <td>Martin Scorsese Hosts Robbie Robertson Tribute...</td>\n      <td>In honor of the late Robbie Robertson, whose “...</td>\n      <td>https://biztoc.com/x/a867ac28c74648dc</td>\n      <td>2023-11-16T22:47:20Z</td>\n      <td>In honor of the late Robbie Robertson, whose K...</td>\n      <td>KOTFM</td>\n      <td>NR</td>\n      <td>production/promotion?</td>\n      <td>NaN</td>\n      <td>NaN</td>\n      <td>NaN</td>\n      <td>NaN</td>\n      <td>NaN</td>\n      <td>NaN</td>\n    </tr>\n    <tr>\n      <th>199</th>\n      <td>Deadline</td>\n      <td>Anna Kendrick And ‘Trolls Band Together’ Filmm...</td>\n      <td>“I think I didn’t realize how lucky I got with...</td>\n      <td>https://deadline.com/2023/11/anna-kendrick-tro...</td>\n      <td>2023-11-18T22:51:19Z</td>\n      <td>“I think I didn’t realize how lucky I got with...</td>\n      <td>Trolls</td>\n      <td>Prod</td>\n      <td>NaN</td>\n      <td>NaN</td>\n      <td>NaN</td>\n      <td>NaN</td>\n      <td>NaN</td>\n      <td>NaN</td>\n      <td>NaN</td>\n    </tr>\n  </tbody>\n</table>\n<p>200 rows × 15 columns</p>\n</div>"
     },
     "execution_count": 45,
     "metadata": {},
     "output_type": "execute_result"
    }
   ],
   "source": [
    "second_round_df"
   ],
   "metadata": {
    "collapsed": false
   }
  },
  {
   "cell_type": "code",
   "execution_count": 46,
   "outputs": [
    {
     "data": {
      "text/plain": "                source                                              title  \\\n0            Pitchfork  Beyoncé’s Renaissance Movie Tops U.S. Box Offi...   \n1       Digital Trends     What’s new on VOD and Digital in December 2023   \n2          Gizmodo.com  The Marvels Drama, Fallout TV Show Reveals, an...   \n3        The A.V. Club  Beyoncé defeats Godzilla Minus One to claim th...   \n4        The A.V. Club  The Hunger Games: The Ballad of Songbirds & Sn...   \n..                 ...                                                ...   \n287   Knowyourmeme.com  What's The 'O Cholera Czy To Freddy Fazbear' M...   \n288            Vulture  Three Awards Bodies Walk Into a Movies Fantasy...   \n289  Los Angeles Times  2024 Oscars shaping up as a 'Barbenheimer' sequel   \n290              /FILM  The Book You Should Read If You Love – Or Hate...   \n291                NaN                                                NaN   \n\n                                           description  \\\n0    In its first weekend, the concert film bested ...   \n1    What's new on VOD and Digital in December 2023...   \n2    It’s been a wild week in the world of sci-fi, ...   \n3    Move over superhero movies, the hot new thing ...   \n4    In the latest episode of Binge Club, our exper...   \n..                                                 ...   \n287  A Polish man's viral video sparked a classic \"...   \n288  New York Film Critics Circle, National Board o...   \n289  Barbie and \"Oppenheimer\" ruled the summer. Now...   \n290  Ridley Scott&amp;#39;s Napoleon isn&amp;#39;t ...   \n291                                                NaN   \n\n                                                   url           publishedAt  \\\n0    https://pitchfork.com/news/beyonces-renaissanc...  2023-12-03T23:18:18Z   \n1    https://www.digitaltrends.com/movies/whats-new...  2023-12-04T22:00:07Z   \n2    https://gizmodo.com/top-entertainment-news-fal...  2023-12-02T15:00:00Z   \n3    https://www.avclub.com/beyonce-box-office-rena...  2023-12-03T21:18:00Z   \n4    https://www.avclub.com/the-hunger-games-the-ba...  2023-11-14T21:34:54Z   \n..                                                 ...                   ...   \n287  https://knowyourmeme.com/editorials/guides/wha...  2023-12-05T20:12:01Z   \n288  http://www.vulture.com/2023/12/nbr-nyfcc-film-...  2023-12-07T23:00:43Z   \n289  https://www.latimes.com/entertainment-arts/awa...  2023-11-13T13:00:24Z   \n290  https://www.slashfilm.com/1453102/book-you-sho...  2023-11-22T16:27:00Z   \n291                                                NaN                   NaN   \n\n                                               content  coder 1  \\\n0    Beyoncés Renaissance movie is the No. 1 movie ...  Tristan   \n1    Apple TV+ December is a very quiet month for V...  Tristan   \n2    Its been a wild week in the world of sci-fi, f...  Tristan   \n3    Move over superhero movies, the hot new thing ...  Tristan   \n4    In the latest episode of Binge Club, our exper...  Tristan   \n..                                                 ...      ...   \n287  Over the past year, a viral video of a Polish ...     Juan   \n288  This is the latest edition of the Movies Fanta...     Juan   \n289  A long time ago relatively, in this short-atte...     Juan   \n290  Here's the thing: I don't care that Scott thro...     Juan   \n291                                                NaN      NaN   \n\n                       movie 1    topic 1  coder 2                    movie 2  \\\n0    Renaissance, HG, Godzilla        Box  Michael  Renaissance, HG, Godzilla   \n1                Trolls, KOTFM  Streaming  Michael              KOTFM, Trolls   \n2                      Marvels         NR  Michael                    Marvels   \n3        Renaissance, Godzilla        Box  Michael                   Godzilla   \n4                           HG      Promo  Michael                         HG   \n..                         ...        ...      ...                        ...   \n287                         NR        NaN    Nolin                       FNAF   \n288                         NM        NaN    Nolin                         NM   \n289                         NM        NaN    Nolin                         NM   \n290                   Napoleon       Plot    Nolin                   Napoleon   \n291                        NaN        NaN      NaN                        NaN   \n\n       topic 2                                    Flag for checks  \\\n0          Box                                                NaN   \n1    Streaming                                                NaN   \n2           NR                                                NaN   \n3          Box               Renaissance not mentioned explicitly   \n4        Promo                            Related to opening soon   \n..         ...                                                ...   \n287      Promo  fnaf related but does not seem to be about the...   \n288        NaN                                                NaN   \n289        NaN               this is about barbie and oppenheimer   \n290       Plot                                                NaN   \n291        NaN                                                NaN   \n\n     Unnamed: 13           resolution movie resolution topic  \\\n0            NaN  Renaissance, HG, Godzilla              NaN   \n1            NaN              KOTFM, Trolls              NaN   \n2            NaN                        NaN              NaN   \n3            NaN                   Godzilla              Box   \n4            NaN                        NaN              NaN   \n..           ...                        ...              ...   \n287          NaN                         NR              NaN   \n288          NaN                        NaN              NaN   \n289          NaN                        NaN              NaN   \n290          NaN                        NaN              NaN   \n291          NaN                      sdfsf              NaN   \n\n                   final movie final topic  \n0    Renaissance, HG, Godzilla         Box  \n1                KOTFM, Trolls   Streaming  \n2                      Marvels          NR  \n3                     Godzilla         Box  \n4                           HG       Promo  \n..                         ...         ...  \n287                         NR         NaN  \n288                         NM         NaN  \n289                         NM         NaN  \n290                   Napoleon        Plot  \n291                        NaN         NaN  \n\n[292 rows x 18 columns]",
      "text/html": "<div>\n<style scoped>\n    .dataframe tbody tr th:only-of-type {\n        vertical-align: middle;\n    }\n\n    .dataframe tbody tr th {\n        vertical-align: top;\n    }\n\n    .dataframe thead th {\n        text-align: right;\n    }\n</style>\n<table border=\"1\" class=\"dataframe\">\n  <thead>\n    <tr style=\"text-align: right;\">\n      <th></th>\n      <th>source</th>\n      <th>title</th>\n      <th>description</th>\n      <th>url</th>\n      <th>publishedAt</th>\n      <th>content</th>\n      <th>coder 1</th>\n      <th>movie 1</th>\n      <th>topic 1</th>\n      <th>coder 2</th>\n      <th>movie 2</th>\n      <th>topic 2</th>\n      <th>Flag for checks</th>\n      <th>Unnamed: 13</th>\n      <th>resolution movie</th>\n      <th>resolution topic</th>\n      <th>final movie</th>\n      <th>final topic</th>\n    </tr>\n  </thead>\n  <tbody>\n    <tr>\n      <th>0</th>\n      <td>Pitchfork</td>\n      <td>Beyoncé’s Renaissance Movie Tops U.S. Box Offi...</td>\n      <td>In its first weekend, the concert film bested ...</td>\n      <td>https://pitchfork.com/news/beyonces-renaissanc...</td>\n      <td>2023-12-03T23:18:18Z</td>\n      <td>Beyoncés Renaissance movie is the No. 1 movie ...</td>\n      <td>Tristan</td>\n      <td>Renaissance, HG, Godzilla</td>\n      <td>Box</td>\n      <td>Michael</td>\n      <td>Renaissance, HG, Godzilla</td>\n      <td>Box</td>\n      <td>NaN</td>\n      <td>NaN</td>\n      <td>Renaissance, HG, Godzilla</td>\n      <td>NaN</td>\n      <td>Renaissance, HG, Godzilla</td>\n      <td>Box</td>\n    </tr>\n    <tr>\n      <th>1</th>\n      <td>Digital Trends</td>\n      <td>What’s new on VOD and Digital in December 2023</td>\n      <td>What's new on VOD and Digital in December 2023...</td>\n      <td>https://www.digitaltrends.com/movies/whats-new...</td>\n      <td>2023-12-04T22:00:07Z</td>\n      <td>Apple TV+ December is a very quiet month for V...</td>\n      <td>Tristan</td>\n      <td>Trolls, KOTFM</td>\n      <td>Streaming</td>\n      <td>Michael</td>\n      <td>KOTFM, Trolls</td>\n      <td>Streaming</td>\n      <td>NaN</td>\n      <td>NaN</td>\n      <td>KOTFM, Trolls</td>\n      <td>NaN</td>\n      <td>KOTFM, Trolls</td>\n      <td>Streaming</td>\n    </tr>\n    <tr>\n      <th>2</th>\n      <td>Gizmodo.com</td>\n      <td>The Marvels Drama, Fallout TV Show Reveals, an...</td>\n      <td>It’s been a wild week in the world of sci-fi, ...</td>\n      <td>https://gizmodo.com/top-entertainment-news-fal...</td>\n      <td>2023-12-02T15:00:00Z</td>\n      <td>Its been a wild week in the world of sci-fi, f...</td>\n      <td>Tristan</td>\n      <td>Marvels</td>\n      <td>NR</td>\n      <td>Michael</td>\n      <td>Marvels</td>\n      <td>NR</td>\n      <td>NaN</td>\n      <td>NaN</td>\n      <td>NaN</td>\n      <td>NaN</td>\n      <td>Marvels</td>\n      <td>NR</td>\n    </tr>\n    <tr>\n      <th>3</th>\n      <td>The A.V. Club</td>\n      <td>Beyoncé defeats Godzilla Minus One to claim th...</td>\n      <td>Move over superhero movies, the hot new thing ...</td>\n      <td>https://www.avclub.com/beyonce-box-office-rena...</td>\n      <td>2023-12-03T21:18:00Z</td>\n      <td>Move over superhero movies, the hot new thing ...</td>\n      <td>Tristan</td>\n      <td>Renaissance, Godzilla</td>\n      <td>Box</td>\n      <td>Michael</td>\n      <td>Godzilla</td>\n      <td>Box</td>\n      <td>Renaissance not mentioned explicitly</td>\n      <td>NaN</td>\n      <td>Godzilla</td>\n      <td>Box</td>\n      <td>Godzilla</td>\n      <td>Box</td>\n    </tr>\n    <tr>\n      <th>4</th>\n      <td>The A.V. Club</td>\n      <td>The Hunger Games: The Ballad of Songbirds &amp; Sn...</td>\n      <td>In the latest episode of Binge Club, our exper...</td>\n      <td>https://www.avclub.com/the-hunger-games-the-ba...</td>\n      <td>2023-11-14T21:34:54Z</td>\n      <td>In the latest episode of Binge Club, our exper...</td>\n      <td>Tristan</td>\n      <td>HG</td>\n      <td>Promo</td>\n      <td>Michael</td>\n      <td>HG</td>\n      <td>Promo</td>\n      <td>Related to opening soon</td>\n      <td>NaN</td>\n      <td>NaN</td>\n      <td>NaN</td>\n      <td>HG</td>\n      <td>Promo</td>\n    </tr>\n    <tr>\n      <th>...</th>\n      <td>...</td>\n      <td>...</td>\n      <td>...</td>\n      <td>...</td>\n      <td>...</td>\n      <td>...</td>\n      <td>...</td>\n      <td>...</td>\n      <td>...</td>\n      <td>...</td>\n      <td>...</td>\n      <td>...</td>\n      <td>...</td>\n      <td>...</td>\n      <td>...</td>\n      <td>...</td>\n      <td>...</td>\n      <td>...</td>\n    </tr>\n    <tr>\n      <th>287</th>\n      <td>Knowyourmeme.com</td>\n      <td>What's The 'O Cholera Czy To Freddy Fazbear' M...</td>\n      <td>A Polish man's viral video sparked a classic \"...</td>\n      <td>https://knowyourmeme.com/editorials/guides/wha...</td>\n      <td>2023-12-05T20:12:01Z</td>\n      <td>Over the past year, a viral video of a Polish ...</td>\n      <td>Juan</td>\n      <td>NR</td>\n      <td>NaN</td>\n      <td>Nolin</td>\n      <td>FNAF</td>\n      <td>Promo</td>\n      <td>fnaf related but does not seem to be about the...</td>\n      <td>NaN</td>\n      <td>NR</td>\n      <td>NaN</td>\n      <td>NR</td>\n      <td>NaN</td>\n    </tr>\n    <tr>\n      <th>288</th>\n      <td>Vulture</td>\n      <td>Three Awards Bodies Walk Into a Movies Fantasy...</td>\n      <td>New York Film Critics Circle, National Board o...</td>\n      <td>http://www.vulture.com/2023/12/nbr-nyfcc-film-...</td>\n      <td>2023-12-07T23:00:43Z</td>\n      <td>This is the latest edition of the Movies Fanta...</td>\n      <td>Juan</td>\n      <td>NM</td>\n      <td>NaN</td>\n      <td>Nolin</td>\n      <td>NM</td>\n      <td>NaN</td>\n      <td>NaN</td>\n      <td>NaN</td>\n      <td>NaN</td>\n      <td>NaN</td>\n      <td>NM</td>\n      <td>NaN</td>\n    </tr>\n    <tr>\n      <th>289</th>\n      <td>Los Angeles Times</td>\n      <td>2024 Oscars shaping up as a 'Barbenheimer' sequel</td>\n      <td>Barbie and \"Oppenheimer\" ruled the summer. Now...</td>\n      <td>https://www.latimes.com/entertainment-arts/awa...</td>\n      <td>2023-11-13T13:00:24Z</td>\n      <td>A long time ago relatively, in this short-atte...</td>\n      <td>Juan</td>\n      <td>NM</td>\n      <td>NaN</td>\n      <td>Nolin</td>\n      <td>NM</td>\n      <td>NaN</td>\n      <td>this is about barbie and oppenheimer</td>\n      <td>NaN</td>\n      <td>NaN</td>\n      <td>NaN</td>\n      <td>NM</td>\n      <td>NaN</td>\n    </tr>\n    <tr>\n      <th>290</th>\n      <td>/FILM</td>\n      <td>The Book You Should Read If You Love – Or Hate...</td>\n      <td>Ridley Scott&amp;amp;#39;s Napoleon isn&amp;amp;#39;t ...</td>\n      <td>https://www.slashfilm.com/1453102/book-you-sho...</td>\n      <td>2023-11-22T16:27:00Z</td>\n      <td>Here's the thing: I don't care that Scott thro...</td>\n      <td>Juan</td>\n      <td>Napoleon</td>\n      <td>Plot</td>\n      <td>Nolin</td>\n      <td>Napoleon</td>\n      <td>Plot</td>\n      <td>NaN</td>\n      <td>NaN</td>\n      <td>NaN</td>\n      <td>NaN</td>\n      <td>Napoleon</td>\n      <td>Plot</td>\n    </tr>\n    <tr>\n      <th>291</th>\n      <td>NaN</td>\n      <td>NaN</td>\n      <td>NaN</td>\n      <td>NaN</td>\n      <td>NaN</td>\n      <td>NaN</td>\n      <td>NaN</td>\n      <td>NaN</td>\n      <td>NaN</td>\n      <td>NaN</td>\n      <td>NaN</td>\n      <td>NaN</td>\n      <td>NaN</td>\n      <td>NaN</td>\n      <td>sdfsf</td>\n      <td>NaN</td>\n      <td>NaN</td>\n      <td>NaN</td>\n    </tr>\n  </tbody>\n</table>\n<p>292 rows × 18 columns</p>\n</div>"
     },
     "execution_count": 46,
     "metadata": {},
     "output_type": "execute_result"
    }
   ],
   "source": [
    "final_round_df"
   ],
   "metadata": {
    "collapsed": false
   }
  },
  {
   "cell_type": "markdown",
   "source": [
    "## Utils"
   ],
   "metadata": {
    "collapsed": false
   }
  },
  {
   "cell_type": "code",
   "execution_count": 47,
   "outputs": [],
   "source": [
    "from enum import Enum\n",
    "\n",
    "\n",
    "class Headers(Enum):\n",
    "    coder1 = \"coder 1\"\n",
    "    movie1 = \"movie 1\"\n",
    "    topic1 = \"topic 1\"\n",
    "    coder2 = \"coder 2\"\n",
    "    movie2 = \"movie 2\"\n",
    "    topic2 = \"topic 2\"\n",
    "    final_movie = \"final movie\"\n",
    "    final_topic = \"final topic\"\n",
    "    title = \"title\"\n",
    "    description = \"description\"\n",
    "\n",
    "\n",
    "class Movies(Enum):\n",
    "    Renaissance = \"Renaissance\"\n",
    "    Godzilla = \"Godzilla\"\n",
    "    Napoleon = \"Napoleon\"\n",
    "    Wish = \"Wish\"\n",
    "    HungerGames = \"HG\"\n",
    "    Trolls = \"Trolls\"\n",
    "    Thanksgiving = \"Thanksgiving\"\n",
    "    Marvels = \"Marvels\"\n",
    "    Five_Night_At_Freddys = \"FNAF\"\n",
    "    After_Death = \"After Death\"\n",
    "    Killer_of_the_flower_moon = \"KOTFM\"\n",
    "    Not_mentioned = \"NM\"\n",
    "    Not_relevant = \"NR\"\n",
    "\n",
    "\n",
    "class Topics(Enum):\n",
    "    Box_office = \"Box\"\n",
    "    Not_release = \"NR\"\n",
    "    Streaming = \"Streaming\"\n",
    "    Production = \"Prod\"\n",
    "    Plot_and_performances = \"Plot\"\n",
    "    Awards = \"Awards\"\n",
    "    Promotion = \"Promo\"\n",
    "\n",
    "\n",
    "class Coders(Enum):\n",
    "    Tristan = \"Tristan\"\n",
    "    Juan = \"Juan\"\n",
    "    Michael = \"Michael\"\n",
    "    Jean_Alexandre = \"Jean-Alexandre\"\n"
   ],
   "metadata": {
    "collapsed": false
   }
  },
  {
   "cell_type": "code",
   "execution_count": 48,
   "outputs": [],
   "source": [
    "def clean_df(df):\n",
    "    df = df[\n",
    "        [\n",
    "            Headers.title.value,\n",
    "            Headers.description.value,\n",
    "            Headers.coder1.value,\n",
    "            Headers.movie1.value,\n",
    "            Headers.topic1.value,\n",
    "            Headers.coder2.value,\n",
    "            Headers.movie2.value,\n",
    "            Headers.topic2.value,\n",
    "            Headers.final_movie.value,\n",
    "            Headers.final_topic.value,\n",
    "\n",
    "        ]\n",
    "    ]\n",
    "    df= df.applymap(lambda x: x.strip() if isinstance(x, str) else x)\n",
    "    return df"
   ],
   "metadata": {
    "collapsed": false
   }
  },
  {
   "cell_type": "markdown",
   "source": [
    "# Cleaning"
   ],
   "metadata": {
    "collapsed": false
   }
  },
  {
   "cell_type": "code",
   "execution_count": 49,
   "outputs": [
    {
     "name": "stderr",
     "output_type": "stream",
     "text": [
      "/tmp/ipykernel_3920/2442534445.py:17: FutureWarning: DataFrame.applymap has been deprecated. Use DataFrame.map instead.\n",
      "  df= df.applymap(lambda x: x.strip() if isinstance(x, str) else x)\n",
      "/tmp/ipykernel_3920/2442534445.py:17: FutureWarning: DataFrame.applymap has been deprecated. Use DataFrame.map instead.\n",
      "  df= df.applymap(lambda x: x.strip() if isinstance(x, str) else x)\n"
     ]
    }
   ],
   "source": [
    "second_round_df_clean = second_round_df.copy()\n",
    "final_round_df_clean = final_round_df.copy()\n",
    "\n",
    "second_round_df_clean = clean_df(second_round_df_clean)\n",
    "final_round_df_clean = clean_df(final_round_df_clean)"
   ],
   "metadata": {
    "collapsed": false
   }
  },
  {
   "cell_type": "code",
   "execution_count": 50,
   "outputs": [
    {
     "data": {
      "text/plain": "                                                 title  \\\n0    Taylor Swift Will Seemingly Attend Beyonce's M...   \n1    How Donnie Darko And Martin Scorsese Influence...   \n2    The Marvels Is On Track For One Of The MCU's L...   \n3    Leonardo DiCaprio Reacts to Rapping Video, Rev...   \n4    The Marvels Star Iman Vellani Talks Working Wi...   \n..                                                 ...   \n195  ‘Godzilla Minus One’ Review: Toho’s Franchise ...   \n196  One Of Five Nights At Freddy's Animatronics Ca...   \n197  ‘The Marvels’ Makes Box Office History, ‘The H...   \n198  Martin Scorsese Hosts Robbie Robertson Tribute...   \n199  Anna Kendrick And ‘Trolls Band Together’ Filmm...   \n\n                                           description  coder 1  movie 1  \\\n0    Taylor Swift missed out on an exciting opportu...      NaN      NaN   \n1    Believe it or not, the star and director of Fi...      NaN      NaN   \n2    Bad news for The Marvels: the latest from the ...      NaN      NaN   \n3    Leonardo DiCaprio is speaking out about the vi...      NaN      NaN   \n4    We spoke with The Marvels star Iman Vellani ab...      NaN      NaN   \n..                                                 ...      ...      ...   \n195  After countless variations and sequels, plus m...      NaN      NaN   \n196  Talk about scary: on the set of the Five Night...      NaN      NaN   \n197  What cost \"The Marvels\" the box office crown f...      NaN      NaN   \n198  In honor of the late Robbie Robertson, whose “...      NaN      NaN   \n199  “I think I didn’t realize how lucky I got with...      NaN      NaN   \n\n     topic 1  coder 2  movie 2  topic 2  final movie final topic  \n0        NaN      NaN      NaN      NaN  Renaissance       Promo  \n1        NaN      NaN      NaN      NaN         FNAF        Prod  \n2        NaN      NaN      NaN      NaN      Marvels         Box  \n3        NaN      NaN      NaN      NaN        KOTFM       Promo  \n4        NaN      NaN      NaN      NaN      Marvels       Promo  \n..       ...      ...      ...      ...          ...         ...  \n195      NaN      NaN      NaN      NaN     Godzilla        Plot  \n196      NaN      NaN      NaN      NaN         FNAF          NR  \n197      NaN      NaN      NaN      NaN  Marvels, HG         Box  \n198      NaN      NaN      NaN      NaN        KOTFM          NR  \n199      NaN      NaN      NaN      NaN       Trolls        Prod  \n\n[200 rows x 10 columns]",
      "text/html": "<div>\n<style scoped>\n    .dataframe tbody tr th:only-of-type {\n        vertical-align: middle;\n    }\n\n    .dataframe tbody tr th {\n        vertical-align: top;\n    }\n\n    .dataframe thead th {\n        text-align: right;\n    }\n</style>\n<table border=\"1\" class=\"dataframe\">\n  <thead>\n    <tr style=\"text-align: right;\">\n      <th></th>\n      <th>title</th>\n      <th>description</th>\n      <th>coder 1</th>\n      <th>movie 1</th>\n      <th>topic 1</th>\n      <th>coder 2</th>\n      <th>movie 2</th>\n      <th>topic 2</th>\n      <th>final movie</th>\n      <th>final topic</th>\n    </tr>\n  </thead>\n  <tbody>\n    <tr>\n      <th>0</th>\n      <td>Taylor Swift Will Seemingly Attend Beyonce's M...</td>\n      <td>Taylor Swift missed out on an exciting opportu...</td>\n      <td>NaN</td>\n      <td>NaN</td>\n      <td>NaN</td>\n      <td>NaN</td>\n      <td>NaN</td>\n      <td>NaN</td>\n      <td>Renaissance</td>\n      <td>Promo</td>\n    </tr>\n    <tr>\n      <th>1</th>\n      <td>How Donnie Darko And Martin Scorsese Influence...</td>\n      <td>Believe it or not, the star and director of Fi...</td>\n      <td>NaN</td>\n      <td>NaN</td>\n      <td>NaN</td>\n      <td>NaN</td>\n      <td>NaN</td>\n      <td>NaN</td>\n      <td>FNAF</td>\n      <td>Prod</td>\n    </tr>\n    <tr>\n      <th>2</th>\n      <td>The Marvels Is On Track For One Of The MCU's L...</td>\n      <td>Bad news for The Marvels: the latest from the ...</td>\n      <td>NaN</td>\n      <td>NaN</td>\n      <td>NaN</td>\n      <td>NaN</td>\n      <td>NaN</td>\n      <td>NaN</td>\n      <td>Marvels</td>\n      <td>Box</td>\n    </tr>\n    <tr>\n      <th>3</th>\n      <td>Leonardo DiCaprio Reacts to Rapping Video, Rev...</td>\n      <td>Leonardo DiCaprio is speaking out about the vi...</td>\n      <td>NaN</td>\n      <td>NaN</td>\n      <td>NaN</td>\n      <td>NaN</td>\n      <td>NaN</td>\n      <td>NaN</td>\n      <td>KOTFM</td>\n      <td>Promo</td>\n    </tr>\n    <tr>\n      <th>4</th>\n      <td>The Marvels Star Iman Vellani Talks Working Wi...</td>\n      <td>We spoke with The Marvels star Iman Vellani ab...</td>\n      <td>NaN</td>\n      <td>NaN</td>\n      <td>NaN</td>\n      <td>NaN</td>\n      <td>NaN</td>\n      <td>NaN</td>\n      <td>Marvels</td>\n      <td>Promo</td>\n    </tr>\n    <tr>\n      <th>...</th>\n      <td>...</td>\n      <td>...</td>\n      <td>...</td>\n      <td>...</td>\n      <td>...</td>\n      <td>...</td>\n      <td>...</td>\n      <td>...</td>\n      <td>...</td>\n      <td>...</td>\n    </tr>\n    <tr>\n      <th>195</th>\n      <td>‘Godzilla Minus One’ Review: Toho’s Franchise ...</td>\n      <td>After countless variations and sequels, plus m...</td>\n      <td>NaN</td>\n      <td>NaN</td>\n      <td>NaN</td>\n      <td>NaN</td>\n      <td>NaN</td>\n      <td>NaN</td>\n      <td>Godzilla</td>\n      <td>Plot</td>\n    </tr>\n    <tr>\n      <th>196</th>\n      <td>One Of Five Nights At Freddy's Animatronics Ca...</td>\n      <td>Talk about scary: on the set of the Five Night...</td>\n      <td>NaN</td>\n      <td>NaN</td>\n      <td>NaN</td>\n      <td>NaN</td>\n      <td>NaN</td>\n      <td>NaN</td>\n      <td>FNAF</td>\n      <td>NR</td>\n    </tr>\n    <tr>\n      <th>197</th>\n      <td>‘The Marvels’ Makes Box Office History, ‘The H...</td>\n      <td>What cost \"The Marvels\" the box office crown f...</td>\n      <td>NaN</td>\n      <td>NaN</td>\n      <td>NaN</td>\n      <td>NaN</td>\n      <td>NaN</td>\n      <td>NaN</td>\n      <td>Marvels, HG</td>\n      <td>Box</td>\n    </tr>\n    <tr>\n      <th>198</th>\n      <td>Martin Scorsese Hosts Robbie Robertson Tribute...</td>\n      <td>In honor of the late Robbie Robertson, whose “...</td>\n      <td>NaN</td>\n      <td>NaN</td>\n      <td>NaN</td>\n      <td>NaN</td>\n      <td>NaN</td>\n      <td>NaN</td>\n      <td>KOTFM</td>\n      <td>NR</td>\n    </tr>\n    <tr>\n      <th>199</th>\n      <td>Anna Kendrick And ‘Trolls Band Together’ Filmm...</td>\n      <td>“I think I didn’t realize how lucky I got with...</td>\n      <td>NaN</td>\n      <td>NaN</td>\n      <td>NaN</td>\n      <td>NaN</td>\n      <td>NaN</td>\n      <td>NaN</td>\n      <td>Trolls</td>\n      <td>Prod</td>\n    </tr>\n  </tbody>\n</table>\n<p>200 rows × 10 columns</p>\n</div>"
     },
     "execution_count": 50,
     "metadata": {},
     "output_type": "execute_result"
    }
   ],
   "source": [
    "second_round_df_clean"
   ],
   "metadata": {
    "collapsed": false
   }
  },
  {
   "cell_type": "code",
   "execution_count": 51,
   "outputs": [
    {
     "data": {
      "text/plain": "                                                 title  \\\n0    Beyoncé’s Renaissance Movie Tops U.S. Box Offi...   \n1       What’s new on VOD and Digital in December 2023   \n2    The Marvels Drama, Fallout TV Show Reveals, an...   \n3    Beyoncé defeats Godzilla Minus One to claim th...   \n4    The Hunger Games: The Ballad of Songbirds & Sn...   \n..                                                 ...   \n287  What's The 'O Cholera Czy To Freddy Fazbear' M...   \n288  Three Awards Bodies Walk Into a Movies Fantasy...   \n289  2024 Oscars shaping up as a 'Barbenheimer' sequel   \n290  The Book You Should Read If You Love – Or Hate...   \n291                                                NaN   \n\n                                           description  coder 1  \\\n0    In its first weekend, the concert film bested ...  Tristan   \n1    What's new on VOD and Digital in December 2023...  Tristan   \n2    It’s been a wild week in the world of sci-fi, ...  Tristan   \n3    Move over superhero movies, the hot new thing ...  Tristan   \n4    In the latest episode of Binge Club, our exper...  Tristan   \n..                                                 ...      ...   \n287  A Polish man's viral video sparked a classic \"...     Juan   \n288  New York Film Critics Circle, National Board o...     Juan   \n289  Barbie and \"Oppenheimer\" ruled the summer. Now...     Juan   \n290  Ridley Scott&amp;#39;s Napoleon isn&amp;#39;t ...     Juan   \n291                                                NaN      NaN   \n\n                       movie 1    topic 1  coder 2                    movie 2  \\\n0    Renaissance, HG, Godzilla        Box  Michael  Renaissance, HG, Godzilla   \n1                Trolls, KOTFM  Streaming  Michael              KOTFM, Trolls   \n2                      Marvels         NR  Michael                    Marvels   \n3        Renaissance, Godzilla        Box  Michael                   Godzilla   \n4                           HG      Promo  Michael                         HG   \n..                         ...        ...      ...                        ...   \n287                         NR        NaN    Nolin                       FNAF   \n288                         NM        NaN    Nolin                         NM   \n289                         NM        NaN    Nolin                         NM   \n290                   Napoleon       Plot    Nolin                   Napoleon   \n291                        NaN        NaN      NaN                        NaN   \n\n       topic 2                final movie final topic  \n0          Box  Renaissance, HG, Godzilla         Box  \n1    Streaming              KOTFM, Trolls   Streaming  \n2           NR                    Marvels          NR  \n3          Box                   Godzilla         Box  \n4        Promo                         HG       Promo  \n..         ...                        ...         ...  \n287      Promo                         NR         NaN  \n288        NaN                         NM         NaN  \n289        NaN                         NM         NaN  \n290       Plot                   Napoleon        Plot  \n291        NaN                        NaN         NaN  \n\n[292 rows x 10 columns]",
      "text/html": "<div>\n<style scoped>\n    .dataframe tbody tr th:only-of-type {\n        vertical-align: middle;\n    }\n\n    .dataframe tbody tr th {\n        vertical-align: top;\n    }\n\n    .dataframe thead th {\n        text-align: right;\n    }\n</style>\n<table border=\"1\" class=\"dataframe\">\n  <thead>\n    <tr style=\"text-align: right;\">\n      <th></th>\n      <th>title</th>\n      <th>description</th>\n      <th>coder 1</th>\n      <th>movie 1</th>\n      <th>topic 1</th>\n      <th>coder 2</th>\n      <th>movie 2</th>\n      <th>topic 2</th>\n      <th>final movie</th>\n      <th>final topic</th>\n    </tr>\n  </thead>\n  <tbody>\n    <tr>\n      <th>0</th>\n      <td>Beyoncé’s Renaissance Movie Tops U.S. Box Offi...</td>\n      <td>In its first weekend, the concert film bested ...</td>\n      <td>Tristan</td>\n      <td>Renaissance, HG, Godzilla</td>\n      <td>Box</td>\n      <td>Michael</td>\n      <td>Renaissance, HG, Godzilla</td>\n      <td>Box</td>\n      <td>Renaissance, HG, Godzilla</td>\n      <td>Box</td>\n    </tr>\n    <tr>\n      <th>1</th>\n      <td>What’s new on VOD and Digital in December 2023</td>\n      <td>What's new on VOD and Digital in December 2023...</td>\n      <td>Tristan</td>\n      <td>Trolls, KOTFM</td>\n      <td>Streaming</td>\n      <td>Michael</td>\n      <td>KOTFM, Trolls</td>\n      <td>Streaming</td>\n      <td>KOTFM, Trolls</td>\n      <td>Streaming</td>\n    </tr>\n    <tr>\n      <th>2</th>\n      <td>The Marvels Drama, Fallout TV Show Reveals, an...</td>\n      <td>It’s been a wild week in the world of sci-fi, ...</td>\n      <td>Tristan</td>\n      <td>Marvels</td>\n      <td>NR</td>\n      <td>Michael</td>\n      <td>Marvels</td>\n      <td>NR</td>\n      <td>Marvels</td>\n      <td>NR</td>\n    </tr>\n    <tr>\n      <th>3</th>\n      <td>Beyoncé defeats Godzilla Minus One to claim th...</td>\n      <td>Move over superhero movies, the hot new thing ...</td>\n      <td>Tristan</td>\n      <td>Renaissance, Godzilla</td>\n      <td>Box</td>\n      <td>Michael</td>\n      <td>Godzilla</td>\n      <td>Box</td>\n      <td>Godzilla</td>\n      <td>Box</td>\n    </tr>\n    <tr>\n      <th>4</th>\n      <td>The Hunger Games: The Ballad of Songbirds &amp; Sn...</td>\n      <td>In the latest episode of Binge Club, our exper...</td>\n      <td>Tristan</td>\n      <td>HG</td>\n      <td>Promo</td>\n      <td>Michael</td>\n      <td>HG</td>\n      <td>Promo</td>\n      <td>HG</td>\n      <td>Promo</td>\n    </tr>\n    <tr>\n      <th>...</th>\n      <td>...</td>\n      <td>...</td>\n      <td>...</td>\n      <td>...</td>\n      <td>...</td>\n      <td>...</td>\n      <td>...</td>\n      <td>...</td>\n      <td>...</td>\n      <td>...</td>\n    </tr>\n    <tr>\n      <th>287</th>\n      <td>What's The 'O Cholera Czy To Freddy Fazbear' M...</td>\n      <td>A Polish man's viral video sparked a classic \"...</td>\n      <td>Juan</td>\n      <td>NR</td>\n      <td>NaN</td>\n      <td>Nolin</td>\n      <td>FNAF</td>\n      <td>Promo</td>\n      <td>NR</td>\n      <td>NaN</td>\n    </tr>\n    <tr>\n      <th>288</th>\n      <td>Three Awards Bodies Walk Into a Movies Fantasy...</td>\n      <td>New York Film Critics Circle, National Board o...</td>\n      <td>Juan</td>\n      <td>NM</td>\n      <td>NaN</td>\n      <td>Nolin</td>\n      <td>NM</td>\n      <td>NaN</td>\n      <td>NM</td>\n      <td>NaN</td>\n    </tr>\n    <tr>\n      <th>289</th>\n      <td>2024 Oscars shaping up as a 'Barbenheimer' sequel</td>\n      <td>Barbie and \"Oppenheimer\" ruled the summer. Now...</td>\n      <td>Juan</td>\n      <td>NM</td>\n      <td>NaN</td>\n      <td>Nolin</td>\n      <td>NM</td>\n      <td>NaN</td>\n      <td>NM</td>\n      <td>NaN</td>\n    </tr>\n    <tr>\n      <th>290</th>\n      <td>The Book You Should Read If You Love – Or Hate...</td>\n      <td>Ridley Scott&amp;amp;#39;s Napoleon isn&amp;amp;#39;t ...</td>\n      <td>Juan</td>\n      <td>Napoleon</td>\n      <td>Plot</td>\n      <td>Nolin</td>\n      <td>Napoleon</td>\n      <td>Plot</td>\n      <td>Napoleon</td>\n      <td>Plot</td>\n    </tr>\n    <tr>\n      <th>291</th>\n      <td>NaN</td>\n      <td>NaN</td>\n      <td>NaN</td>\n      <td>NaN</td>\n      <td>NaN</td>\n      <td>NaN</td>\n      <td>NaN</td>\n      <td>NaN</td>\n      <td>NaN</td>\n      <td>NaN</td>\n    </tr>\n  </tbody>\n</table>\n<p>292 rows × 10 columns</p>\n</div>"
     },
     "execution_count": 51,
     "metadata": {},
     "output_type": "execute_result"
    }
   ],
   "source": [
    "final_round_df_clean"
   ],
   "metadata": {
    "collapsed": false
   }
  },
  {
   "cell_type": "code",
   "execution_count": 52,
   "outputs": [
    {
     "data": {
      "text/plain": "                                                 title  \\\n0    Taylor Swift Will Seemingly Attend Beyonce's M...   \n1    How Donnie Darko And Martin Scorsese Influence...   \n2    The Marvels Is On Track For One Of The MCU's L...   \n3    Leonardo DiCaprio Reacts to Rapping Video, Rev...   \n4    The Marvels Star Iman Vellani Talks Working Wi...   \n..                                                 ...   \n287  What's The 'O Cholera Czy To Freddy Fazbear' M...   \n288  Three Awards Bodies Walk Into a Movies Fantasy...   \n289  2024 Oscars shaping up as a 'Barbenheimer' sequel   \n290  The Book You Should Read If You Love – Or Hate...   \n291                                                NaN   \n\n                                           description coder 1   movie 1  \\\n0    Taylor Swift missed out on an exciting opportu...     NaN       NaN   \n1    Believe it or not, the star and director of Fi...     NaN       NaN   \n2    Bad news for The Marvels: the latest from the ...     NaN       NaN   \n3    Leonardo DiCaprio is speaking out about the vi...     NaN       NaN   \n4    We spoke with The Marvels star Iman Vellani ab...     NaN       NaN   \n..                                                 ...     ...       ...   \n287  A Polish man's viral video sparked a classic \"...    Juan        NR   \n288  New York Film Critics Circle, National Board o...    Juan        NM   \n289  Barbie and \"Oppenheimer\" ruled the summer. Now...    Juan        NM   \n290  Ridley Scott&amp;#39;s Napoleon isn&amp;#39;t ...    Juan  Napoleon   \n291                                                NaN     NaN       NaN   \n\n    topic 1 coder 2   movie 2 topic 2  final movie final topic  \n0       NaN     NaN       NaN     NaN  Renaissance       Promo  \n1       NaN     NaN       NaN     NaN         FNAF        Prod  \n2       NaN     NaN       NaN     NaN      Marvels         Box  \n3       NaN     NaN       NaN     NaN        KOTFM       Promo  \n4       NaN     NaN       NaN     NaN      Marvels       Promo  \n..      ...     ...       ...     ...          ...         ...  \n287     NaN   Nolin      FNAF   Promo           NR         NaN  \n288     NaN   Nolin        NM     NaN           NM         NaN  \n289     NaN   Nolin        NM     NaN           NM         NaN  \n290    Plot   Nolin  Napoleon    Plot     Napoleon        Plot  \n291     NaN     NaN       NaN     NaN          NaN         NaN  \n\n[492 rows x 10 columns]",
      "text/html": "<div>\n<style scoped>\n    .dataframe tbody tr th:only-of-type {\n        vertical-align: middle;\n    }\n\n    .dataframe tbody tr th {\n        vertical-align: top;\n    }\n\n    .dataframe thead th {\n        text-align: right;\n    }\n</style>\n<table border=\"1\" class=\"dataframe\">\n  <thead>\n    <tr style=\"text-align: right;\">\n      <th></th>\n      <th>title</th>\n      <th>description</th>\n      <th>coder 1</th>\n      <th>movie 1</th>\n      <th>topic 1</th>\n      <th>coder 2</th>\n      <th>movie 2</th>\n      <th>topic 2</th>\n      <th>final movie</th>\n      <th>final topic</th>\n    </tr>\n  </thead>\n  <tbody>\n    <tr>\n      <th>0</th>\n      <td>Taylor Swift Will Seemingly Attend Beyonce's M...</td>\n      <td>Taylor Swift missed out on an exciting opportu...</td>\n      <td>NaN</td>\n      <td>NaN</td>\n      <td>NaN</td>\n      <td>NaN</td>\n      <td>NaN</td>\n      <td>NaN</td>\n      <td>Renaissance</td>\n      <td>Promo</td>\n    </tr>\n    <tr>\n      <th>1</th>\n      <td>How Donnie Darko And Martin Scorsese Influence...</td>\n      <td>Believe it or not, the star and director of Fi...</td>\n      <td>NaN</td>\n      <td>NaN</td>\n      <td>NaN</td>\n      <td>NaN</td>\n      <td>NaN</td>\n      <td>NaN</td>\n      <td>FNAF</td>\n      <td>Prod</td>\n    </tr>\n    <tr>\n      <th>2</th>\n      <td>The Marvels Is On Track For One Of The MCU's L...</td>\n      <td>Bad news for The Marvels: the latest from the ...</td>\n      <td>NaN</td>\n      <td>NaN</td>\n      <td>NaN</td>\n      <td>NaN</td>\n      <td>NaN</td>\n      <td>NaN</td>\n      <td>Marvels</td>\n      <td>Box</td>\n    </tr>\n    <tr>\n      <th>3</th>\n      <td>Leonardo DiCaprio Reacts to Rapping Video, Rev...</td>\n      <td>Leonardo DiCaprio is speaking out about the vi...</td>\n      <td>NaN</td>\n      <td>NaN</td>\n      <td>NaN</td>\n      <td>NaN</td>\n      <td>NaN</td>\n      <td>NaN</td>\n      <td>KOTFM</td>\n      <td>Promo</td>\n    </tr>\n    <tr>\n      <th>4</th>\n      <td>The Marvels Star Iman Vellani Talks Working Wi...</td>\n      <td>We spoke with The Marvels star Iman Vellani ab...</td>\n      <td>NaN</td>\n      <td>NaN</td>\n      <td>NaN</td>\n      <td>NaN</td>\n      <td>NaN</td>\n      <td>NaN</td>\n      <td>Marvels</td>\n      <td>Promo</td>\n    </tr>\n    <tr>\n      <th>...</th>\n      <td>...</td>\n      <td>...</td>\n      <td>...</td>\n      <td>...</td>\n      <td>...</td>\n      <td>...</td>\n      <td>...</td>\n      <td>...</td>\n      <td>...</td>\n      <td>...</td>\n    </tr>\n    <tr>\n      <th>287</th>\n      <td>What's The 'O Cholera Czy To Freddy Fazbear' M...</td>\n      <td>A Polish man's viral video sparked a classic \"...</td>\n      <td>Juan</td>\n      <td>NR</td>\n      <td>NaN</td>\n      <td>Nolin</td>\n      <td>FNAF</td>\n      <td>Promo</td>\n      <td>NR</td>\n      <td>NaN</td>\n    </tr>\n    <tr>\n      <th>288</th>\n      <td>Three Awards Bodies Walk Into a Movies Fantasy...</td>\n      <td>New York Film Critics Circle, National Board o...</td>\n      <td>Juan</td>\n      <td>NM</td>\n      <td>NaN</td>\n      <td>Nolin</td>\n      <td>NM</td>\n      <td>NaN</td>\n      <td>NM</td>\n      <td>NaN</td>\n    </tr>\n    <tr>\n      <th>289</th>\n      <td>2024 Oscars shaping up as a 'Barbenheimer' sequel</td>\n      <td>Barbie and \"Oppenheimer\" ruled the summer. Now...</td>\n      <td>Juan</td>\n      <td>NM</td>\n      <td>NaN</td>\n      <td>Nolin</td>\n      <td>NM</td>\n      <td>NaN</td>\n      <td>NM</td>\n      <td>NaN</td>\n    </tr>\n    <tr>\n      <th>290</th>\n      <td>The Book You Should Read If You Love – Or Hate...</td>\n      <td>Ridley Scott&amp;amp;#39;s Napoleon isn&amp;amp;#39;t ...</td>\n      <td>Juan</td>\n      <td>Napoleon</td>\n      <td>Plot</td>\n      <td>Nolin</td>\n      <td>Napoleon</td>\n      <td>Plot</td>\n      <td>Napoleon</td>\n      <td>Plot</td>\n    </tr>\n    <tr>\n      <th>291</th>\n      <td>NaN</td>\n      <td>NaN</td>\n      <td>NaN</td>\n      <td>NaN</td>\n      <td>NaN</td>\n      <td>NaN</td>\n      <td>NaN</td>\n      <td>NaN</td>\n      <td>NaN</td>\n      <td>NaN</td>\n    </tr>\n  </tbody>\n</table>\n<p>492 rows × 10 columns</p>\n</div>"
     },
     "execution_count": 52,
     "metadata": {},
     "output_type": "execute_result"
    }
   ],
   "source": [
    "complete_df = second_round_df_clean._append(final_round_df_clean)\n",
    "complete_df"
   ],
   "metadata": {
    "collapsed": false
   }
  },
  {
   "cell_type": "code",
   "execution_count": 53,
   "outputs": [
    {
     "data": {
      "text/plain": "final movie\nKOTFM                                   89\nMarvels                                 68\nHG                                      65\nNM                                      63\nGodzilla                                53\nNapoleon                                32\nNR                                      30\nRenaissance                             20\nFNAF                                    19\nTrolls                                  14\nHG, Napoleon, Wish                       5\nHG, Trolls                               4\nHG, Marvels                              3\nNapoleon, Wish                           3\nNapoleon, Wish, HG                       3\nNapoleon, KOTFM                          3\nWish, Napoleon, HG                       1\nWish, Trolls                             1\nWish                                     1\nWish, Napoleon, KOTFM                    1\nHG, Napoleon                             1\nKOTFM, Napoleon                          1\nWish, Napoleon                           1\nHG, Trolls, Marvels                      1\nMarvels, HG, Trolls                      1\nWish, Marvels                            1\nRenaissance, Godzilla                    1\nKOTFM, Wish, HG                          1\nKOTFM, Trolls                            1\nRenaissance, HG, Godzilla                1\nMarvels, HG                              1\nRenaissance, Godzilla, Marvels, Wish     1\nGodzilla, Renaissance                    1\nName: count, dtype: int64"
     },
     "execution_count": 53,
     "metadata": {},
     "output_type": "execute_result"
    }
   ],
   "source": [
    "complete_df[Headers.final_movie.value].value_counts()"
   ],
   "metadata": {
    "collapsed": false
   }
  },
  {
   "cell_type": "code",
   "execution_count": 54,
   "outputs": [],
   "source": [
    "complete_df.to_csv('../data/coded/complete.tsv', sep='\\t', index=False)"
   ],
   "metadata": {
    "collapsed": false
   }
  },
  {
   "cell_type": "code",
   "execution_count": null,
   "outputs": [],
   "source": [],
   "metadata": {
    "collapsed": false
   }
  }
 ],
 "metadata": {
  "kernelspec": {
   "display_name": "Python 3",
   "language": "python",
   "name": "python3"
  },
  "language_info": {
   "codemirror_mode": {
    "name": "ipython",
    "version": 2
   },
   "file_extension": ".py",
   "mimetype": "text/x-python",
   "name": "python",
   "nbconvert_exporter": "python",
   "pygments_lexer": "ipython2",
   "version": "2.7.6"
  }
 },
 "nbformat": 4,
 "nbformat_minor": 0
}
